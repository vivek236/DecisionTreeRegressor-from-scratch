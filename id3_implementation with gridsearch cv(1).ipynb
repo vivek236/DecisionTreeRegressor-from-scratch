{
  "nbformat": 4,
  "nbformat_minor": 0,
  "metadata": {
    "colab": {
      "provenance": []
    },
    "kernelspec": {
      "name": "python3",
      "display_name": "Python 3"
    },
    "language_info": {
      "name": "python"
    }
  },
  "cells": [
    {
      "cell_type": "code",
      "execution_count": 153,
      "metadata": {
        "id": "OvJB7m3J27B7"
      },
      "outputs": [],
      "source": [
        "import numpy as np\n",
        "import pandas as pd"
      ]
    },
    {
      "cell_type": "code",
      "source": [
        "data = pd.read_csv(\"/content/AirfoilSelfNoise.csv\")\n",
        "data.head(5)"
      ],
      "metadata": {
        "colab": {
          "base_uri": "https://localhost:8080/",
          "height": 206
        },
        "id": "V821xhrE3Ozn",
        "outputId": "b82bd793-8e29-4839-baa3-233b6771a692"
      },
      "execution_count": 154,
      "outputs": [
        {
          "output_type": "execute_result",
          "data": {
            "text/plain": [
              "      f  alpha       c  U_infinity     delta     SSPL\n",
              "0   800    0.0  0.3048        71.3  0.002663  126.201\n",
              "1  1000    0.0  0.3048        71.3  0.002663  125.201\n",
              "2  1250    0.0  0.3048        71.3  0.002663  125.951\n",
              "3  1600    0.0  0.3048        71.3  0.002663  127.591\n",
              "4  2000    0.0  0.3048        71.3  0.002663  127.461"
            ],
            "text/html": [
              "\n",
              "  <div id=\"df-ea4b9297-1869-4dc2-a726-bbe72b797401\">\n",
              "    <div class=\"colab-df-container\">\n",
              "      <div>\n",
              "<style scoped>\n",
              "    .dataframe tbody tr th:only-of-type {\n",
              "        vertical-align: middle;\n",
              "    }\n",
              "\n",
              "    .dataframe tbody tr th {\n",
              "        vertical-align: top;\n",
              "    }\n",
              "\n",
              "    .dataframe thead th {\n",
              "        text-align: right;\n",
              "    }\n",
              "</style>\n",
              "<table border=\"1\" class=\"dataframe\">\n",
              "  <thead>\n",
              "    <tr style=\"text-align: right;\">\n",
              "      <th></th>\n",
              "      <th>f</th>\n",
              "      <th>alpha</th>\n",
              "      <th>c</th>\n",
              "      <th>U_infinity</th>\n",
              "      <th>delta</th>\n",
              "      <th>SSPL</th>\n",
              "    </tr>\n",
              "  </thead>\n",
              "  <tbody>\n",
              "    <tr>\n",
              "      <th>0</th>\n",
              "      <td>800</td>\n",
              "      <td>0.0</td>\n",
              "      <td>0.3048</td>\n",
              "      <td>71.3</td>\n",
              "      <td>0.002663</td>\n",
              "      <td>126.201</td>\n",
              "    </tr>\n",
              "    <tr>\n",
              "      <th>1</th>\n",
              "      <td>1000</td>\n",
              "      <td>0.0</td>\n",
              "      <td>0.3048</td>\n",
              "      <td>71.3</td>\n",
              "      <td>0.002663</td>\n",
              "      <td>125.201</td>\n",
              "    </tr>\n",
              "    <tr>\n",
              "      <th>2</th>\n",
              "      <td>1250</td>\n",
              "      <td>0.0</td>\n",
              "      <td>0.3048</td>\n",
              "      <td>71.3</td>\n",
              "      <td>0.002663</td>\n",
              "      <td>125.951</td>\n",
              "    </tr>\n",
              "    <tr>\n",
              "      <th>3</th>\n",
              "      <td>1600</td>\n",
              "      <td>0.0</td>\n",
              "      <td>0.3048</td>\n",
              "      <td>71.3</td>\n",
              "      <td>0.002663</td>\n",
              "      <td>127.591</td>\n",
              "    </tr>\n",
              "    <tr>\n",
              "      <th>4</th>\n",
              "      <td>2000</td>\n",
              "      <td>0.0</td>\n",
              "      <td>0.3048</td>\n",
              "      <td>71.3</td>\n",
              "      <td>0.002663</td>\n",
              "      <td>127.461</td>\n",
              "    </tr>\n",
              "  </tbody>\n",
              "</table>\n",
              "</div>\n",
              "      <button class=\"colab-df-convert\" onclick=\"convertToInteractive('df-ea4b9297-1869-4dc2-a726-bbe72b797401')\"\n",
              "              title=\"Convert this dataframe to an interactive table.\"\n",
              "              style=\"display:none;\">\n",
              "        \n",
              "  <svg xmlns=\"http://www.w3.org/2000/svg\" height=\"24px\"viewBox=\"0 0 24 24\"\n",
              "       width=\"24px\">\n",
              "    <path d=\"M0 0h24v24H0V0z\" fill=\"none\"/>\n",
              "    <path d=\"M18.56 5.44l.94 2.06.94-2.06 2.06-.94-2.06-.94-.94-2.06-.94 2.06-2.06.94zm-11 1L8.5 8.5l.94-2.06 2.06-.94-2.06-.94L8.5 2.5l-.94 2.06-2.06.94zm10 10l.94 2.06.94-2.06 2.06-.94-2.06-.94-.94-2.06-.94 2.06-2.06.94z\"/><path d=\"M17.41 7.96l-1.37-1.37c-.4-.4-.92-.59-1.43-.59-.52 0-1.04.2-1.43.59L10.3 9.45l-7.72 7.72c-.78.78-.78 2.05 0 2.83L4 21.41c.39.39.9.59 1.41.59.51 0 1.02-.2 1.41-.59l7.78-7.78 2.81-2.81c.8-.78.8-2.07 0-2.86zM5.41 20L4 18.59l7.72-7.72 1.47 1.35L5.41 20z\"/>\n",
              "  </svg>\n",
              "      </button>\n",
              "      \n",
              "  <style>\n",
              "    .colab-df-container {\n",
              "      display:flex;\n",
              "      flex-wrap:wrap;\n",
              "      gap: 12px;\n",
              "    }\n",
              "\n",
              "    .colab-df-convert {\n",
              "      background-color: #E8F0FE;\n",
              "      border: none;\n",
              "      border-radius: 50%;\n",
              "      cursor: pointer;\n",
              "      display: none;\n",
              "      fill: #1967D2;\n",
              "      height: 32px;\n",
              "      padding: 0 0 0 0;\n",
              "      width: 32px;\n",
              "    }\n",
              "\n",
              "    .colab-df-convert:hover {\n",
              "      background-color: #E2EBFA;\n",
              "      box-shadow: 0px 1px 2px rgba(60, 64, 67, 0.3), 0px 1px 3px 1px rgba(60, 64, 67, 0.15);\n",
              "      fill: #174EA6;\n",
              "    }\n",
              "\n",
              "    [theme=dark] .colab-df-convert {\n",
              "      background-color: #3B4455;\n",
              "      fill: #D2E3FC;\n",
              "    }\n",
              "\n",
              "    [theme=dark] .colab-df-convert:hover {\n",
              "      background-color: #434B5C;\n",
              "      box-shadow: 0px 1px 3px 1px rgba(0, 0, 0, 0.15);\n",
              "      filter: drop-shadow(0px 1px 2px rgba(0, 0, 0, 0.3));\n",
              "      fill: #FFFFFF;\n",
              "    }\n",
              "  </style>\n",
              "\n",
              "      <script>\n",
              "        const buttonEl =\n",
              "          document.querySelector('#df-ea4b9297-1869-4dc2-a726-bbe72b797401 button.colab-df-convert');\n",
              "        buttonEl.style.display =\n",
              "          google.colab.kernel.accessAllowed ? 'block' : 'none';\n",
              "\n",
              "        async function convertToInteractive(key) {\n",
              "          const element = document.querySelector('#df-ea4b9297-1869-4dc2-a726-bbe72b797401');\n",
              "          const dataTable =\n",
              "            await google.colab.kernel.invokeFunction('convertToInteractive',\n",
              "                                                     [key], {});\n",
              "          if (!dataTable) return;\n",
              "\n",
              "          const docLinkHtml = 'Like what you see? Visit the ' +\n",
              "            '<a target=\"_blank\" href=https://colab.research.google.com/notebooks/data_table.ipynb>data table notebook</a>'\n",
              "            + ' to learn more about interactive tables.';\n",
              "          element.innerHTML = '';\n",
              "          dataTable['output_type'] = 'display_data';\n",
              "          await google.colab.output.renderOutput(dataTable, element);\n",
              "          const docLink = document.createElement('div');\n",
              "          docLink.innerHTML = docLinkHtml;\n",
              "          element.appendChild(docLink);\n",
              "        }\n",
              "      </script>\n",
              "    </div>\n",
              "  </div>\n",
              "  "
            ]
          },
          "metadata": {},
          "execution_count": 154
        }
      ]
    },
    {
      "cell_type": "code",
      "source": [
        "data.info"
      ],
      "metadata": {
        "colab": {
          "base_uri": "https://localhost:8080/"
        },
        "id": "-tcVivzCsHsS",
        "outputId": "73cfb4c4-bdc8-4f00-ebb2-a5ee40a31b34"
      },
      "execution_count": 155,
      "outputs": [
        {
          "output_type": "execute_result",
          "data": {
            "text/plain": [
              "<bound method DataFrame.info of          f  alpha       c  U_infinity     delta     SSPL\n",
              "0      800    0.0  0.3048        71.3  0.002663  126.201\n",
              "1     1000    0.0  0.3048        71.3  0.002663  125.201\n",
              "2     1250    0.0  0.3048        71.3  0.002663  125.951\n",
              "3     1600    0.0  0.3048        71.3  0.002663  127.591\n",
              "4     2000    0.0  0.3048        71.3  0.002663  127.461\n",
              "...    ...    ...     ...         ...       ...      ...\n",
              "1498  2500   15.6  0.1016        39.6  0.052849  110.264\n",
              "1499  3150   15.6  0.1016        39.6  0.052849  109.254\n",
              "1500  4000   15.6  0.1016        39.6  0.052849  106.604\n",
              "1501  5000   15.6  0.1016        39.6  0.052849  106.224\n",
              "1502  6300   15.6  0.1016        39.6  0.052849  104.204\n",
              "\n",
              "[1503 rows x 6 columns]>"
            ]
          },
          "metadata": {},
          "execution_count": 155
        }
      ]
    },
    {
      "cell_type": "code",
      "source": [
        "class Node():\n",
        "    def __init__(self, feature_index=None, threshold=None, left=None, right=None, var_red=None, value=None):\n",
        "        ''' constructor ''' \n",
        "        \n",
        "        # for decision node\n",
        "        self.feature_index = feature_index\n",
        "        self.threshold = threshold\n",
        "        self.left = left\n",
        "        self.right = right\n",
        "        self.var_red = var_red\n",
        "        \n",
        "        # for leaf node\n",
        "        self.value = value"
      ],
      "metadata": {
        "id": "GnXeHMCb37m2"
      },
      "execution_count": 156,
      "outputs": []
    },
    {
      "cell_type": "code",
      "source": [
        "class DecisionTreeRegressor():\n",
        "    def __init__(self, min_samples_split=5, max_depth=3):\n",
        "        ''' constructor '''\n",
        "        \n",
        "        # initialize the root of the tree \n",
        "        self.root = None\n",
        "        \n",
        "        # stopping conditions\n",
        "        self.min_samples_split = min_samples_split\n",
        "        self.max_depth = max_depth\n",
        "        \n",
        "    def build_tree(self, dataset, curr_depth=0):\n",
        "        ''' recursive function to build the tree '''\n",
        "        \n",
        "        X, Y = dataset[:,:-1], dataset[:,-1]\n",
        "        num_samples, num_features = np.shape(X)\n",
        "        best_split = {}\n",
        "        # split until stopping conditions are met\n",
        "        if num_samples>=self.min_samples_split and curr_depth<=self.max_depth:\n",
        "            # find the best split\n",
        "            best_split = self.get_best_split(dataset, num_samples, num_features)\n",
        "            # check if information gain is positive\n",
        "            if best_split[\"var_red\"]>0:\n",
        "                # recur left\n",
        "                left_subtree = self.build_tree(best_split[\"dataset_left\"], curr_depth+1)\n",
        "                # recur right\n",
        "                right_subtree = self.build_tree(best_split[\"dataset_right\"], curr_depth+1)\n",
        "                # return decision node\n",
        "                return Node(best_split[\"feature_index\"], best_split[\"threshold\"], \n",
        "                            left_subtree, right_subtree, best_split[\"var_red\"])\n",
        "        \n",
        "        # compute leaf node\n",
        "        leaf_value = self.calculate_leaf_value(Y)\n",
        "        # return leaf node\n",
        "        return Node(value=leaf_value)\n",
        "    \n",
        "    def get_best_split(self, dataset, num_samples, num_features):\n",
        "        ''' function to find the best split '''\n",
        "        \n",
        "        # dictionary to store the best split\n",
        "        best_split = {}\n",
        "        max_var_red = -float(\"inf\")\n",
        "        # loop over all the features\n",
        "        for feature_index in range(num_features):\n",
        "            feature_values = dataset[:, feature_index]\n",
        "            possible_thresholds = np.unique(feature_values)\n",
        "            # loop over all the feature values present in the data\n",
        "            for threshold in possible_thresholds:\n",
        "                # get current split\n",
        "                dataset_left, dataset_right = self.split(dataset, feature_index, threshold)\n",
        "                # check if childs are not null\n",
        "                if len(dataset_left)>0 and len(dataset_right)>0:\n",
        "                    y, left_y, right_y = dataset[:, -1], dataset_left[:, -1], dataset_right[:, -1]\n",
        "                    # compute information gain\n",
        "                    curr_var_red = self.variance_reduction(y, left_y, right_y)\n",
        "                    # update the best split if needed\n",
        "                    if curr_var_red>max_var_red:\n",
        "                        best_split[\"feature_index\"] = feature_index\n",
        "                        best_split[\"threshold\"] = threshold\n",
        "                        best_split[\"dataset_left\"] = dataset_left\n",
        "                        best_split[\"dataset_right\"] = dataset_right\n",
        "                        best_split[\"var_red\"] = curr_var_red\n",
        "                        max_var_red = curr_var_red\n",
        "                        \n",
        "        # return best split\n",
        "        return best_split\n",
        "    \n",
        "    def split(self, dataset, feature_index, threshold):\n",
        "        ''' function to split the data '''\n",
        "        \n",
        "        dataset_left = np.array([row for row in dataset if row[feature_index]<=threshold])\n",
        "        dataset_right = np.array([row for row in dataset if row[feature_index]>threshold])\n",
        "        return dataset_left, dataset_right\n",
        "    \n",
        "    def variance_reduction(self, parent, l_child, r_child):\n",
        "        ''' function to compute variance reduction '''\n",
        "        \n",
        "        weight_l = len(l_child) / len(parent)\n",
        "        weight_r = len(r_child) / len(parent)\n",
        "        reduction = np.var(parent) - (weight_l * np.var(l_child) + weight_r * np.var(r_child))\n",
        "        return reduction\n",
        "    \n",
        "    def calculate_leaf_value(self, Y):\n",
        "        ''' function to compute leaf node '''\n",
        "        \n",
        "        val = np.mean(Y)\n",
        "        return val\n",
        "                \n",
        "    def print_tree(self, tree=None, indent=\" \"):\n",
        "        ''' function to print the tree '''\n",
        "        \n",
        "        if not tree:\n",
        "            tree = self.root\n",
        "\n",
        "        if tree.value is not None:\n",
        "            print(tree.value)\n",
        "\n",
        "        else:\n",
        "            print(\"X_\"+str(tree.feature_index), \"<=\", tree.threshold, \"?\", tree.var_red)\n",
        "            print(\"%sleft:\" % (indent), end=\"\")\n",
        "            self.print_tree(tree.left, indent + indent)\n",
        "            print(\"%sright:\" % (indent), end=\"\")\n",
        "            self.print_tree(tree.right, indent + indent)\n",
        "    \n",
        "    def fit(self, X, Y):\n",
        "        ''' function to train the tree '''\n",
        "        \n",
        "        dataset = np.concatenate((X, Y), axis=1)\n",
        "        self.root = self.build_tree(dataset)\n",
        "        \n",
        "    def make_prediction(self, x, tree):\n",
        "        ''' function to predict new dataset '''\n",
        "        \n",
        "        if tree.value!=None: return tree.value\n",
        "        feature_val = x[tree.feature_index]\n",
        "        if feature_val<=tree.threshold:\n",
        "            return self.make_prediction(x, tree.left)\n",
        "        else:\n",
        "            return self.make_prediction(x, tree.right)\n",
        "    \n",
        "    def predict(self, X):\n",
        "        ''' function to predict a single data point '''\n",
        "        \n",
        "        preditions = [self.make_prediction(x, self.root) for x in X]\n",
        "        return preditions\n",
        "    "
      ],
      "metadata": {
        "id": "eUrExOYX382X"
      },
      "execution_count": 175,
      "outputs": []
    },
    {
      "cell_type": "code",
      "source": [
        "#X = data.iloc[:, :-1].values\n",
        "#Y = data.iloc[:, -1].values.reshape(-1,1)\n",
        "#from sklearn.model_selection import train_test_split\n",
        "#X_train, X_test, Y_train, Y_test = train_test_split(X, Y, test_size=.2, random_state=31)"
      ],
      "metadata": {
        "id": "CT4dSSNd4Hll"
      },
      "execution_count": 158,
      "outputs": []
    },
    {
      "cell_type": "code",
      "source": [
        "X = data.iloc[:, :-1].values\n",
        "Y = data.iloc[:, -1].values.reshape(-1,1)"
      ],
      "metadata": {
        "id": "5SwKybQ7uDht"
      },
      "execution_count": 176,
      "outputs": []
    },
    {
      "cell_type": "code",
      "source": [
        "# Select ratio\n",
        "ratio = 0.75\n",
        "\n",
        "n_train = int(X.shape[0] *ratio)\n",
        "n_test = X.shape[0] - n_train\n",
        "indices = np.random.permutation(X.shape[0])\n",
        "# Split data into test and train\n",
        "X_train = X[indices[:n_train], :]\n",
        "Y_train = Y[indices[:n_train], :]\n",
        "X_test = X[indices[n_train:], :]\n",
        "Y_test = Y[indices[n_train:], :]\n"
      ],
      "metadata": {
        "id": "RBy2pL7Zy_qE"
      },
      "execution_count": 177,
      "outputs": []
    },
    {
      "cell_type": "code",
      "source": [
        "X_train.shape, X_test.shape\n"
      ],
      "metadata": {
        "colab": {
          "base_uri": "https://localhost:8080/"
        },
        "id": "V2GdUDarzMDm",
        "outputId": "dd4d0b8e-f57e-42bb-836c-f4081b4748da"
      },
      "execution_count": 178,
      "outputs": [
        {
          "output_type": "execute_result",
          "data": {
            "text/plain": [
              "((1127, 5), (376, 5))"
            ]
          },
          "metadata": {},
          "execution_count": 178
        }
      ]
    },
    {
      "cell_type": "code",
      "source": [
        "regressor = DecisionTreeRegressor(min_samples_split=2, max_depth=4)\n",
        "regressor.fit(X_train,Y_train)\n",
        "#regressor.print_tree()"
      ],
      "metadata": {
        "id": "7bUs5chw4LMS"
      },
      "execution_count": 186,
      "outputs": []
    },
    {
      "cell_type": "code",
      "source": [
        "import sklearn.metrics as metrics"
      ],
      "metadata": {
        "id": "A_cRe3--2bky"
      },
      "execution_count": 180,
      "outputs": []
    },
    {
      "cell_type": "code",
      "source": [
        "Y_pred = regressor.predict(X_test) \n",
        "from sklearn.metrics import mean_squared_error\n",
        "np.sqrt(mean_squared_error(Y_test, Y_pred))\n",
        "\n"
      ],
      "metadata": {
        "id": "RPQUxUYA4ScJ",
        "colab": {
          "base_uri": "https://localhost:8080/"
        },
        "outputId": "bd2258e6-8150-44a1-dbf6-6a1f31d8c2b8"
      },
      "execution_count": 181,
      "outputs": [
        {
          "output_type": "execute_result",
          "data": {
            "text/plain": [
              "4.260825899993658"
            ]
          },
          "metadata": {},
          "execution_count": 181
        }
      ]
    },
    {
      "cell_type": "code",
      "source": [
        "from sklearn.metrics import mean_absolute_error\n",
        "(mean_absolute_error(Y_test, Y_pred))\n"
      ],
      "metadata": {
        "colab": {
          "base_uri": "https://localhost:8080/"
        },
        "id": "RvhdtCKt6rLl",
        "outputId": "856b2bde-708c-45b3-e1c9-4497c63199b1"
      },
      "execution_count": 182,
      "outputs": [
        {
          "output_type": "execute_result",
          "data": {
            "text/plain": [
              "3.3517013548943"
            ]
          },
          "metadata": {},
          "execution_count": 182
        }
      ]
    },
    {
      "cell_type": "code",
      "source": [
        "from sklearn.metrics import mean_poisson_deviance\n",
        "mean_poisson_deviance(Y_test, Y_pred)"
      ],
      "metadata": {
        "colab": {
          "base_uri": "https://localhost:8080/"
        },
        "id": "B5c5xKyR6_zl",
        "outputId": "088a3def-e4c9-41be-944c-d0b0902828a2"
      },
      "execution_count": 183,
      "outputs": [
        {
          "output_type": "execute_result",
          "data": {
            "text/plain": [
              "0.14566465540165424"
            ]
          },
          "metadata": {},
          "execution_count": 183
        }
      ]
    },
    {
      "cell_type": "code",
      "source": [
        "from itertools import product\n",
        "from sklearn.tree import DecisionTreeRegressor\n",
        "from sklearn.metrics import mean_squared_error\n",
        "import numpy as np\n",
        "\n",
        "# Define the hyperparameters to search over\n",
        "max_depths = [2, 4, 6, 8]\n",
        "min_samples_splits = [2, 5, 10, 15]\n",
        "\n",
        "# Define the data and target\n",
        "X = data.iloc[:, :-1].values\n",
        "Y = data.iloc[:, -1].values.reshape(-1,1)\n",
        "\n",
        "# Define a function to perform the grid search\n",
        "def grid_search_decision_tree(max_depths, min_samples_splits, X, Y):\n",
        "    best_params = None\n",
        "    best_mse = float('inf')\n",
        "    for max_depth, min_samples_split in product(max_depths, min_samples_splits):\n",
        "        # Create a decision tree regressor with the current hyperparameters\n",
        "        model = DecisionTreeRegressor(max_depth=max_depth, min_samples_split=min_samples_split)\n",
        "        # Fit the model on the data\n",
        "        model.fit(X_train, Y_train)\n",
        "        # Predict the target\n",
        "        y_pred = model.predict(X_test)\n",
        "        # Calculate the mean squared error\n",
        "        mse = mean_squared_error(Y_test, Y_pred)\n",
        "        # If the mean squared error is better than the previous best,\n",
        "        # update the best hyperparameters and mean squared error\n",
        "        if mse < best_mse:\n",
        "            best_mse = mse\n",
        "            best_params = {'max_depth': max_depth, 'min_samples_split': min_samples_split}\n",
        "    return best_params\n",
        "\n",
        "# Perform the grid search and print the best hyperparameters\n",
        "best_params = grid_search_decision_tree(max_depths, min_samples_splits, X, Y)\n",
        "print(f'Best hyperparameters: {best_params}')\n"
      ],
      "metadata": {
        "colab": {
          "base_uri": "https://localhost:8080/"
        },
        "id": "LQ5D6052q4cz",
        "outputId": "01cc937b-5510-4edd-895f-df8cd367aa94"
      },
      "execution_count": 194,
      "outputs": [
        {
          "output_type": "stream",
          "name": "stdout",
          "text": [
            "Best hyperparameters: {'max_depth': 2, 'min_samples_split': 2}\n"
          ]
        }
      ]
    }
  ]
}